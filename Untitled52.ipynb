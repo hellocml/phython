{
  "nbformat": 4,
  "nbformat_minor": 0,
  "metadata": {
    "colab": {
      "provenance": [],
      "mount_file_id": "1TR_n5qc5-gQfeUK4sND91QiPehe4us5E",
      "authorship_tag": "ABX9TyOkpagdjPLDnZ63jZrU3PsZ",
      "include_colab_link": true
    },
    "kernelspec": {
      "name": "python3",
      "display_name": "Python 3"
    },
    "language_info": {
      "name": "python"
    }
  },
  "cells": [
    {
      "cell_type": "markdown",
      "metadata": {
        "id": "view-in-github",
        "colab_type": "text"
      },
      "source": [
        "<a href=\"https://colab.research.google.com/github/hellocml/phython/blob/main/Untitled52.ipynb\" target=\"_parent\"><img src=\"https://colab.research.google.com/assets/colab-badge.svg\" alt=\"Open In Colab\"/></a>"
      ]
    },
    {
      "cell_type": "markdown",
      "source": [
        "학습 목표\n",
        "\n",
        "- K-beauty 데이터를 KOSIS(국가통계포털)에서 다운로드 받습니다.\n",
        "\n",
        "\n",
        "\n",
        "핵심 키워드\n",
        "\n",
        "- KOSIS(국가통계포털)"
      ],
      "metadata": {
        "id": "zkFAUTN7WwoH"
      }
    },
    {
      "cell_type": "code",
      "execution_count": null,
      "metadata": {
        "id": "pqZy2AUWV_MC"
      },
      "outputs": [],
      "source": []
    }
  ]
}