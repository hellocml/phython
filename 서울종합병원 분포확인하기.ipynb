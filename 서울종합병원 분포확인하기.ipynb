{
  "nbformat": 4,
  "nbformat_minor": 0,
  "metadata": {
    "colab": {
      "provenance": [],
      "mount_file_id": "1TR_n5qc5-gQfeUK4sND91QiPehe4us5E",
      "authorship_tag": "ABX9TyPsltMMqsJsUjjy0t9LsHDJ",
      "include_colab_link": true
    },
    "kernelspec": {
      "name": "python3",
      "display_name": "Python 3"
    },
    "language_info": {
      "name": "python"
    }
  },
  "cells": [
    {
      "cell_type": "markdown",
      "metadata": {
        "id": "view-in-github",
        "colab_type": "text"
      },
      "source": [
        "<a href=\"https://colab.research.google.com/github/hellocml/phython/blob/main/%EC%84%9C%EC%9A%B8%EC%A2%85%ED%95%A9%EB%B3%91%EC%9B%90%20%EB%B6%84%ED%8F%AC%ED%99%95%EC%9D%B8%ED%95%98%EA%B8%B0.ipynb\" target=\"_parent\"><img src=\"https://colab.research.google.com/assets/colab-badge.svg\" alt=\"Open In Colab\"/></a>"
      ]
    },
    {
      "cell_type": "code",
      "execution_count": null,
      "metadata": {
        "id": "pqZy2AUWV_MC"
      },
      "outputs": [],
      "source": []
    }
  ]
}