{
  "nbformat": 4,
  "nbformat_minor": 0,
  "metadata": {
    "colab": {
      "provenance": [],
      "mount_file_id": "1TR_n5qc5-gQfeUK4sND91QiPehe4us5E",
      "authorship_tag": "ABX9TyPeZ/5kThAWL1j2zK+daBru",
      "include_colab_link": true
    },
    "kernelspec": {
      "name": "python3",
      "display_name": "Python 3"
    },
    "language_info": {
      "name": "python"
    }
  },
  "cells": [
    {
      "cell_type": "markdown",
      "metadata": {
        "id": "view-in-github",
        "colab_type": "text"
      },
      "source": [
        "<a href=\"https://colab.research.google.com/github/hellocml/phython/blob/main/Untitled52_ipynb%EC%9D%98_%EC%82%AC%EB%B3%B8.ipynb\" target=\"_parent\"><img src=\"https://colab.research.google.com/assets/colab-badge.svg\" alt=\"Open In Colab\"/></a>"
      ]
    },
    {
      "cell_type": "markdown",
      "source": [
        "학습 목표\n",
        "\n",
        "- K-beauty 데이터를 KOSIS(국가통계포털)에서 다운로드 받습니다.\n",
        "\n",
        "\n",
        "\n",
        "핵심 키워드\n",
        "\n",
        "- KOSIS(국가통계포털)\n",
        "\n",
        "\n",
        "학습 내용\n",
        "\n",
        "\n",
        "\n",
        "KOSIS(국가통계포털)\n",
        "\n",
        "\n",
        "\n",
        "KOSIS(국가통계포털)에는 다양한 데이터가 있습니다.\n",
        "\n",
        "\n",
        "\n",
        "KOSIS에서 국내통계 > 주제별통계로 가보겠습니다.\n",
        "\n",
        "\n",
        "요즘은 K-beauty 상품을 직접 판매하는 경우가 늘고 있습니다.\n",
        "\n",
        "\n",
        "\n",
        "K-beauty 상품의 판매액을 알아보겠습니다. 이 분석을 통해 어떤 품목이 얼마나 판매되었는지 알 수 있습니다.\n",
        "\n",
        "\n",
        "\n",
        "\n",
        "\n",
        "도소매서비스 > 온라인쇼핑동향조사 > 국가(대륙)별/상품군별 온라인쇼핑 해외직접판매액\n",
        "\n",
        "\n",
        "\n",
        "를 선택합니다.\n",
        "\n",
        "\n",
        "분기 별, 년도 별로 다운로드 받을 수 있고, 분기 별로 분석을 해보고자 합니다."
      ],
      "metadata": {
        "id": "zkFAUTN7WwoH"
      }
    },
    {
      "cell_type": "code",
      "execution_count": null,
      "metadata": {
        "id": "pqZy2AUWV_MC"
      },
      "outputs": [],
      "source": []
    }
  ]
}